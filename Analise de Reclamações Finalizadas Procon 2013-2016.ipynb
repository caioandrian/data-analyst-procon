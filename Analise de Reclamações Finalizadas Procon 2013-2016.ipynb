{
 "cells": [
  {
   "cell_type": "code",
   "execution_count": 1,
   "metadata": {
    "collapsed": true
   },
   "outputs": [],
   "source": [
    "# Importa todas as bibliotecas necessárias\n",
    "%matplotlib inline\n",
    "import numpy as np\n",
    "import pandas as pd\n",
    "import matplotlib.pyplot as plt\n",
    "from datetime import datetime\n",
    "import csv\n",
    "import unidecode"
   ]
  },
  {
   "cell_type": "markdown",
   "metadata": {},
   "source": [
    "# Dicionário de dados"
   ]
  },
  {
   "cell_type": "markdown",
   "metadata": {},
   "source": [
    "**strRazaoSocial:** Razão social do fornecedor (empresa) na base de dados do Sindec\n",
    "\n",
    "strNomeFantasia: Nome fantasia do fornecedor na base dedados do Sindec (nome comercial / popular / fachada)\n",
    "\n",
    "**RadicalCNPJ:** Aplica-se para pessoa jurídica e serve para agrupar as informações de um mesmo fornecedor (matriz e filiais), sendo os oitos primeiros dígitos do número do CNPJ - Exemplo: a matriz (central) do banco e suas filiais (agências)\n",
    "\n",
    "**RazaoSocialRFB:** Razão social do fornecedor na base de dados da RFB – Receita Federal do Brasil.\n",
    "\n",
    "NomeFantasiaRFB: Nome fantasia do fornecedor na base de dados da RFB – Receita Federal do Brasil\n",
    "Obs.: somente para os CNPJs (NumeroCNPJ) válidos na base da RFB\n",
    "\n",
    "**CNAEPrincipal:** Código identificador da Classificação Nacional de Atividades Econômicas principal do fornecedor.\n",
    "Obs.: somente para os CNPJs (NumeroCNPJ) válidos na base da RFB\n",
    "\n",
    "DescCNAEPrincipal: Descrição da Classificação Nacional de Atividades Econômicas principal dofornecedor. \n",
    "Obs.: somente para os CNPJs (NumeroCNPJ) válidos na base da RFB\n",
    "\n",
    "**Atendida:** Código identificador da reclamação fundamentada atendida ou não pela empresa/fornecedor:\n",
    "S – Atendida\n",
    "N – NÃO Atendida\n",
    "\n"
   ]
  },
  {
   "cell_type": "code",
   "execution_count": 5,
   "metadata": {},
   "outputs": [
    {
     "data": {
      "text/plain": [
       "267764"
      ]
     },
     "execution_count": 5,
     "metadata": {},
     "output_type": "execute_result"
    }
   ],
   "source": [
    "df2014 = pd.read_csv('reclamacoes-fundamentadas-sindec-2014.csv')\n",
    "df2014['AnoCalendario'].count()"
   ]
  },
  {
   "cell_type": "markdown",
   "metadata": {},
   "source": [
    "# Removendo colunas não utilizadas"
   ]
  },
  {
   "cell_type": "code",
   "execution_count": 6,
   "metadata": {
    "collapsed": true
   },
   "outputs": [],
   "source": [
    "df2014.drop(['DataAbertura', 'DataArquivamento', 'FaixaEtariaConsumidor', 'Atendida', 'DescricaoProblema', 'AnoCalendario', 'CodigoRegiao', 'CodigoAssunto', 'Tipo', 'CodigoProblema', 'RazaoSocialRFB', 'NomeFantasiaRFB','SexoConsumidor', 'CNAEPrincipal', 'RadicalCNPJ', 'DescCNAEPrincipal', 'CEPConsumidor'], axis=1, inplace=True)"
   ]
  },
  {
   "cell_type": "markdown",
   "metadata": {},
   "source": [
    "# Removendo acentuações\n",
    "No banco de dados, existe ocorrências de uma mesma razão social com e sem acentuação."
   ]
  },
  {
   "cell_type": "code",
   "execution_count": 10,
   "metadata": {
    "collapsed": true
   },
   "outputs": [],
   "source": [
    "def remove_acentuacao(a):\n",
    "    return unidecode.unidecode(a.decode('utf-8'))\n",
    "\n",
    "df2014['strRazaoSocial'] = df2014['strRazaoSocial'].apply(remove_acentuacao)"
   ]
  },
  {
   "cell_type": "markdown",
   "metadata": {},
   "source": [
    "# Marcas famosas possuem diferentes nomes para a 'razão social'\n",
    "SAMSUNG, NOKIA, MOTOROLA.."
   ]
  },
  {
   "cell_type": "code",
   "execution_count": 37,
   "metadata": {
    "scrolled": true
   },
   "outputs": [
    {
     "data": {
      "text/plain": [
       "array(['NOKIA DO BRASIL TECNOLOGIA LTDA',\n",
       "       'NOKIA DO BRASIL TECNOLOGIA LTDA.', 'NOKIA DO BRASIL S.A',\n",
       "       'NOKIA CELULARES', 'NOKIA DO BRASIL TECONOLOGIA LTDA',\n",
       "       'NOKIA DO BRASIL TECNOLOGIA LTDA - AOP',\n",
       "       'NOKIA DO BRASIL TECNOLOGIA', 'NOKIA STORE',\n",
       "       'NOKIA CONECTING PEAPOLE'], dtype=object)"
      ]
     },
     "execution_count": 37,
     "metadata": {},
     "output_type": "execute_result"
    }
   ],
   "source": [
    "df2014[df2014['strRazaoSocial'].str.startswith('NOKIA ')]['strRazaoSocial'].unique()#samsung informática"
   ]
  },
  {
   "cell_type": "markdown",
   "metadata": {},
   "source": [
    "VIVO, TIM, OI, CLARO.."
   ]
  },
  {
   "cell_type": "code",
   "execution_count": 32,
   "metadata": {},
   "outputs": [
    {
     "data": {
      "text/plain": [
       "array(['OI MOVEL S.A.', 'OI MOVEL S/A', 'OI S.A', 'OI S.A.',\n",
       "       'OI MOVEL S.A', 'OI S/A',\n",
       "       'OI MOVEL S/A (14 BRASIL TELECOM CELULAR S/A)', 'OI S.A. (OI FIXO)',\n",
       "       'OI SA', 'OI - TNL PCS S/A', 'OI MOVEL S/A.', 'OI MOVEL SA',\n",
       "       'OI S/A KENNEDY NORONHA TERENCE', 'OI TV', 'OI MOVEL / OI TV',\n",
       "       'OI MOVEL S/A (ANTIGA TNL)', 'OI S.A. BRASIL TELECOM',\n",
       "       'OI SERVICOS DE TELECOMUNIACOES S.A.', 'OI S.A. (TELEFONIA FIXA)',\n",
       "       'OI S/A.', 'OI S/A - SERVICO DE TELEFONIA FIXA COMUTADA',\n",
       "       'OI MOVEL  S/A', 'OI - 14 BRASIL TELECOM CELULAR S/A',\n",
       "       'OI MOVEL S.A. - (CNPJ COM SITUACAO CADASTRAL RECEI',\n",
       "       'OI - TELEMAR NORTE LESTE S/A, OI S/A, OI MOVEL S/A',\n",
       "       'OI TNL PCS S.A', 'OI VALE', 'OI S.A. (OI FIXO / BRASIL TELECOM)',\n",
       "       'OI PAGGO ADMINISTRADORA DE CREDITO LTDA', 'OI CELULAR S.A',\n",
       "       'OI MOVEL S/A - 14 BRASIL TELECOM CELULAR S/A',\n",
       "       'OI - BRASIL TELECOM S/A'], dtype=object)"
      ]
     },
     "execution_count": 32,
     "metadata": {},
     "output_type": "execute_result"
    }
   ],
   "source": [
    "df2014[df2014['strRazaoSocial'].str.startswith('OI ')]['strRazaoSocial'].unique() # Nome Fantasia: OI"
   ]
  },
  {
   "cell_type": "markdown",
   "metadata": {},
   "source": [
    "# Criando novo arquivo com todos os anos\n",
    "Data de Abertura: 2013 a 2016"
   ]
  },
  {
   "cell_type": "code",
   "execution_count": 4,
   "metadata": {
    "collapsed": true
   },
   "outputs": [],
   "source": [
    "def summarise_data(filenames, output_file):\n",
    "    with open(output_file, 'wb') as master_file:\n",
    "        out_colnames = ['DataArquivamento', 'DataAbertura','Regiao', 'UF', 'RazaoSocial', \n",
    "                        'Atendida', 'Assunto','Problema', 'FaixaEtaria']   \n",
    "        \n",
    "        trip_writer = csv.DictWriter(master_file, fieldnames = out_colnames, delimiter=';')\n",
    "        trip_writer.writeheader()\n",
    "        \n",
    "        for filename in filenames:\n",
    "            with open(filename, 'rb') as f_in:\n",
    "                # configura o leitor do csv\n",
    "                trip_reader = csv.DictReader(f_in)\n",
    "                \n",
    "                # processa cada linha lendo uma a uma\n",
    "                for row in trip_reader:\n",
    "                    if datetime.strptime(row['DataAbertura'], '%Y-%m-%d %H:%M:%S.%f') >= datetime.strptime('2013-01-01 00:00:00.000', '%Y-%m-%d %H:%M:%S.%f'):\n",
    "                        new_point = {}\n",
    "\n",
    "                        new_point['DataArquivamento'] = datetime.strptime(row['DataArquivamento'], '%Y-%m-%d %H:%M:%S.%f')\n",
    "                        new_point['DataAbertura'] = datetime.strptime(row['DataAbertura'], '%Y-%m-%d %H:%M:%S.%f')\n",
    "                        new_point['Regiao'] = row['Regiao']\n",
    "                        new_point['UF'] = row['UF']\n",
    "                        \n",
    "                        #corrigindo nomes com Sociedade Anônima\n",
    "                        if 'S/A' in row['strRazaoSocial']:\n",
    "                            row['strRazaoSocial'] = row['strRazaoSocial'].replace('S/A', 'SA')\n",
    "                        if 'S.A' in row['strRazaoSocial']:\n",
    "                            row['strRazaoSocial'] = row['strRazaoSocial'].replace('S.A', 'SA')\n",
    "                        \n",
    "                        \n",
    "                        new_point['RazaoSocial'] = unidecode.unidecode(row['strRazaoSocial'].decode('utf-8'))\n",
    "                        \n",
    "                        #agrupando empresas/marcas conhecidas\n",
    "                        if row['strRazaoSocial'].startswith('SAMSUNG ') or (\n",
    "                        row['strRazaoSocial'].startswith('NOKIA ') ) or (\n",
    "                        row['strRazaoSocial'].startswith('MOTOROLA ') ) or (\n",
    "                        row['strRazaoSocial'].startswith('LG ') ) or (\n",
    "                        row['strRazaoSocial'].startswith('SONY ') ) or (\n",
    "                        row['strRazaoSocial'].startswith('DELL ') ) or (\n",
    "                        row['strRazaoSocial'].startswith('LENOVO ') ) or (\n",
    "                        row['strRazaoSocial'].startswith('ACER DO BRASIL ') ) or (\n",
    "                        row['strRazaoSocial'].startswith('CEMAZ ') ):\n",
    "                            split_name = row['strRazaoSocial'].split(\" \")\n",
    "                            new_point['RazaoSocial'] = split_name[0]\n",
    "                            \n",
    "                        #agrupando as empresas de telefonia\n",
    "                        if row['strRazaoSocial'].startswith('TNL '):\n",
    "                            new_point['RazaoSocial'] = 'OI'\n",
    "                            \n",
    "                        if row['strRazaoSocial'].startswith('CLARO ') or (\n",
    "                        row['strRazaoSocial'].startswith('TIM ') ) or (\n",
    "                        row['strRazaoSocial'].startswith('OI ') ) or (\n",
    "                        row['strRazaoSocial'].startswith('VIVO ') ) or (\n",
    "                        row['strRazaoSocial'].startswith('TELEMAR ') ):\n",
    "                            split_name = row['strRazaoSocial'].split(\" \")\n",
    "                            new_point['RazaoSocial'] = split_name[0]\n",
    "                            \n",
    "                        new_point['Assunto'] = row['DescricaoAssunto']\n",
    "                        new_point['Problema'] = row['DescricaoProblema']\n",
    "                        new_point['FaixaEtaria'] = row['FaixaEtariaConsumidor']\n",
    "\n",
    "                        if row['Atendida'] == 'S':\n",
    "                            new_point['Atendida'] = 'Atendido'\n",
    "                        else:\n",
    "                            new_point['Atendida'] = 'Não Atendido'\n",
    "\n",
    "                        trip_writer.writerow(new_point);"
   ]
  },
  {
   "cell_type": "code",
   "execution_count": 5,
   "metadata": {
    "collapsed": true
   },
   "outputs": [],
   "source": [
    "trip_in = ['reclamacoes-fundamentadas-sindec-2013.csv',\n",
    "           'reclamacoes-fundamentadas-sindec-2014.csv',\n",
    "           'reclamacoes-fundamentadas-sindec-2015.csv',\n",
    "           'reclamacoes-fundamentadas-sindec-2016.csv'\n",
    "          ]\n",
    "trip_out = 'reclamacoes-fundamentadas-sindec-2013-2016.csv'\n",
    "\n",
    "# Esta função irá ler as informações dos arquivos\n",
    "# e escreverá um arquivo processado com o nome trip_out\n",
    "summarise_data(trip_in, trip_out)"
   ]
  },
  {
   "cell_type": "code",
   "execution_count": 6,
   "metadata": {},
   "outputs": [
    {
     "data": {
      "text/plain": [
       "856233"
      ]
     },
     "execution_count": 6,
     "metadata": {},
     "output_type": "execute_result"
    }
   ],
   "source": [
    "df = pd.read_csv('reclamacoes-fundamentadas-sindec-2013-2016.csv', delimiter=';')\n",
    "df['DataAbertura'].count()"
   ]
  },
  {
   "cell_type": "code",
   "execution_count": 7,
   "metadata": {},
   "outputs": [
    {
     "data": {
      "text/html": [
       "<div>\n",
       "<style>\n",
       "    .dataframe thead tr:only-child th {\n",
       "        text-align: right;\n",
       "    }\n",
       "\n",
       "    .dataframe thead th {\n",
       "        text-align: left;\n",
       "    }\n",
       "\n",
       "    .dataframe tbody tr th {\n",
       "        vertical-align: top;\n",
       "    }\n",
       "</style>\n",
       "<table border=\"1\" class=\"dataframe\">\n",
       "  <thead>\n",
       "    <tr style=\"text-align: right;\">\n",
       "      <th></th>\n",
       "      <th>DataArquivamento</th>\n",
       "      <th>DataAbertura</th>\n",
       "      <th>Regiao</th>\n",
       "      <th>UF</th>\n",
       "      <th>RazaoSocial</th>\n",
       "      <th>Atendida</th>\n",
       "      <th>Assunto</th>\n",
       "      <th>Problema</th>\n",
       "      <th>FaixaEtaria</th>\n",
       "    </tr>\n",
       "  </thead>\n",
       "  <tbody>\n",
       "    <tr>\n",
       "      <th>856228</th>\n",
       "      <td>2016-08-24 10:19:29</td>\n",
       "      <td>2016-05-06 11:21:45</td>\n",
       "      <td>Sudeste</td>\n",
       "      <td>SP</td>\n",
       "      <td>OI</td>\n",
       "      <td>Atendida</td>\n",
       "      <td>Telefonia Celular</td>\n",
       "      <td>Contrato - Rescisão/alteração unilateral</td>\n",
       "      <td>entre 51 a 60 anos</td>\n",
       "    </tr>\n",
       "    <tr>\n",
       "      <th>856229</th>\n",
       "      <td>2016-10-27 09:19:09</td>\n",
       "      <td>2016-05-02 15:28:57</td>\n",
       "      <td>Sudeste</td>\n",
       "      <td>SP</td>\n",
       "      <td>ELETROPAULO METROPOLITANA ELETRICIDADE DE S PAULO</td>\n",
       "      <td>Não Atendida</td>\n",
       "      <td>Energia Elétrica</td>\n",
       "      <td>Cobrança indevida/abusiva</td>\n",
       "      <td>entre 41 a 50 anos</td>\n",
       "    </tr>\n",
       "    <tr>\n",
       "      <th>856230</th>\n",
       "      <td>2016-09-21 09:11:21</td>\n",
       "      <td>2016-04-29 16:20:30</td>\n",
       "      <td>Sudeste</td>\n",
       "      <td>SP</td>\n",
       "      <td>AUTO ESCOLA ULTRA FACIL LTDA EPP</td>\n",
       "      <td>Atendida</td>\n",
       "      <td>Automóvel - Locação / Assistência Automobilíst...</td>\n",
       "      <td>Serviço não concluído /Fornecimento parcial</td>\n",
       "      <td>entre 21 a 30 anos</td>\n",
       "    </tr>\n",
       "    <tr>\n",
       "      <th>856231</th>\n",
       "      <td>2016-08-16 10:58:52</td>\n",
       "      <td>2016-04-19 07:58:16</td>\n",
       "      <td>Sudeste</td>\n",
       "      <td>SP</td>\n",
       "      <td>FINANCEIRA ITAU CBD SA CREDITO FINANCIAMENTO E...</td>\n",
       "      <td>Atendida</td>\n",
       "      <td>Banco comercial</td>\n",
       "      <td>Cobrança indevida/abusiva</td>\n",
       "      <td>entre 21 a 30 anos</td>\n",
       "    </tr>\n",
       "    <tr>\n",
       "      <th>856232</th>\n",
       "      <td>2016-09-21 09:44:57</td>\n",
       "      <td>2016-04-19 08:42:27</td>\n",
       "      <td>Sudeste</td>\n",
       "      <td>SP</td>\n",
       "      <td>VALBET CENTRO AUTOMOTIVO LTDA ME</td>\n",
       "      <td>Atendida</td>\n",
       "      <td>Oficinas ( Mecânica, Funilaria, Auto-Elétrica,...</td>\n",
       "      <td>Vicio de qualidade (mal executado, inadequado,...</td>\n",
       "      <td>entre 51 a 60 anos</td>\n",
       "    </tr>\n",
       "  </tbody>\n",
       "</table>\n",
       "</div>"
      ],
      "text/plain": [
       "           DataArquivamento         DataAbertura   Regiao  UF  \\\n",
       "856228  2016-08-24 10:19:29  2016-05-06 11:21:45  Sudeste  SP   \n",
       "856229  2016-10-27 09:19:09  2016-05-02 15:28:57  Sudeste  SP   \n",
       "856230  2016-09-21 09:11:21  2016-04-29 16:20:30  Sudeste  SP   \n",
       "856231  2016-08-16 10:58:52  2016-04-19 07:58:16  Sudeste  SP   \n",
       "856232  2016-09-21 09:44:57  2016-04-19 08:42:27  Sudeste  SP   \n",
       "\n",
       "                                              RazaoSocial      Atendida  \\\n",
       "856228                                                 OI      Atendida   \n",
       "856229  ELETROPAULO METROPOLITANA ELETRICIDADE DE S PAULO  Não Atendida   \n",
       "856230                   AUTO ESCOLA ULTRA FACIL LTDA EPP      Atendida   \n",
       "856231  FINANCEIRA ITAU CBD SA CREDITO FINANCIAMENTO E...      Atendida   \n",
       "856232                   VALBET CENTRO AUTOMOTIVO LTDA ME      Atendida   \n",
       "\n",
       "                                                  Assunto  \\\n",
       "856228                                  Telefonia Celular   \n",
       "856229                                   Energia Elétrica   \n",
       "856230  Automóvel - Locação / Assistência Automobilíst...   \n",
       "856231                                    Banco comercial   \n",
       "856232  Oficinas ( Mecânica, Funilaria, Auto-Elétrica,...   \n",
       "\n",
       "                                                 Problema         FaixaEtaria  \n",
       "856228           Contrato - Rescisão/alteração unilateral  entre 51 a 60 anos  \n",
       "856229                          Cobrança indevida/abusiva  entre 41 a 50 anos  \n",
       "856230        Serviço não concluído /Fornecimento parcial  entre 21 a 30 anos  \n",
       "856231                          Cobrança indevida/abusiva  entre 21 a 30 anos  \n",
       "856232  Vicio de qualidade (mal executado, inadequado,...  entre 51 a 60 anos  "
      ]
     },
     "execution_count": 7,
     "metadata": {},
     "output_type": "execute_result"
    }
   ],
   "source": [
    "df.tail()"
   ]
  },
  {
   "cell_type": "code",
   "execution_count": 8,
   "metadata": {},
   "outputs": [
    {
     "data": {
      "text/html": [
       "<div>\n",
       "<style>\n",
       "    .dataframe thead tr:only-child th {\n",
       "        text-align: right;\n",
       "    }\n",
       "\n",
       "    .dataframe thead th {\n",
       "        text-align: left;\n",
       "    }\n",
       "\n",
       "    .dataframe tbody tr th {\n",
       "        vertical-align: top;\n",
       "    }\n",
       "</style>\n",
       "<table border=\"1\" class=\"dataframe\">\n",
       "  <thead>\n",
       "    <tr style=\"text-align: right;\">\n",
       "      <th></th>\n",
       "      <th>DataArquivamento</th>\n",
       "      <th>DataAbertura</th>\n",
       "      <th>Regiao</th>\n",
       "      <th>UF</th>\n",
       "      <th>RazaoSocial</th>\n",
       "      <th>Atendida</th>\n",
       "      <th>Assunto</th>\n",
       "      <th>Problema</th>\n",
       "      <th>FaixaEtaria</th>\n",
       "    </tr>\n",
       "  </thead>\n",
       "  <tbody>\n",
       "  </tbody>\n",
       "</table>\n",
       "</div>"
      ],
      "text/plain": [
       "Empty DataFrame\n",
       "Columns: [DataArquivamento, DataAbertura, Regiao, UF, RazaoSocial, Atendida, Assunto, Problema, FaixaEtaria]\n",
       "Index: []"
      ]
     },
     "execution_count": 8,
     "metadata": {},
     "output_type": "execute_result"
    }
   ],
   "source": [
    "df[df['RazaoSocial'].str.startswith('MOTOROLA ', na=False)]"
   ]
  },
  {
   "cell_type": "code",
   "execution_count": null,
   "metadata": {
    "collapsed": true
   },
   "outputs": [],
   "source": []
  }
 ],
 "metadata": {
  "kernelspec": {
   "display_name": "Python 2",
   "language": "python",
   "name": "python2"
  },
  "language_info": {
   "codemirror_mode": {
    "name": "ipython",
    "version": 2
   },
   "file_extension": ".py",
   "mimetype": "text/x-python",
   "name": "python",
   "nbconvert_exporter": "python",
   "pygments_lexer": "ipython2",
   "version": "2.7.14"
  }
 },
 "nbformat": 4,
 "nbformat_minor": 2
}
